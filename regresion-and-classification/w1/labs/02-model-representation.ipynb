{
 "cells": [
  {
   "cell_type": "markdown",
   "id": "4b92daa0",
   "metadata": {},
   "source": [
    "#**Goals**\n",
    "\n",
    "In this lab you will learn to implement the model *f<sub>w,b</sub>* for lineal regression with one variable.\n",
    "    \n",
    "![lecture.png](./images/lecture.png \"Lecture\")\n"
   ]
  },
  {
   "cell_type": "markdown",
   "id": "8888f695",
   "metadata": {},
   "source": [
    "\n",
    "| General notation      | Description | Python (if applicalbe) |\n",
    "| :--- |:--- |:--- |\n",
    "|a |scalar (non blod)|| \n",
    "|**a** |vector **(blod)**||\n",
    "|Regression|\n",
    "|x|Training example feature values (in this lab - Size (1000 sqft))|```x_train```|\n",
    "|y|Training examples targets (in this lab - price (1000s of dollars))|```y_train```|\n",
    "|*x<sup>(i)</sup>, y<sup>(i)</sup>*|*i<sub>th</sub>* training example|```x_i```,```y_i```|\n",
    "|m|Number of training examples|```m```|\n",
    "|*w*|Parameter: weigth|```w```|\n",
    "|b|Parameter: bias|```b```|\n",
    "|*f<sub>w,b</sub>(x<sup>(i)</sup>)*|The result of the model evaluation at *x<sup>(i)</sup>* parameterized by *w, b: f<sub>w,b</sub>(x<sup>(i)</sup>) = wx<sup>(i)</sup> + b*|```f_wb```|\n",
    "||||\n",
    "\n",
    "\n",
    "**Tools**\n",
    "\n",
    "In this lab you will make use of:\n",
    "\n",
    "- NumPy, a popular library for scientific computing\n",
    "- Matplotlib, a popular library for plotting data\n",
    "\n"
   ]
  },
  {
   "cell_type": "code",
   "execution_count": 7,
   "id": "14892e19",
   "metadata": {},
   "outputs": [],
   "source": [
    "import numpy as np\n",
    "import matplotlib.pyplot as plt\n",
    "plt.style.use('./deeplearning.mplstyle')"
   ]
  },
  {
   "cell_type": "markdown",
   "id": "d1a5cd95",
   "metadata": {},
   "source": [
    "![Texto alternativo](/ruta/a/la/imagen.jpg \"Título alternativo\")"
   ]
  },
  {
   "cell_type": "code",
   "execution_count": 5,
   "id": "e68424f7",
   "metadata": {},
   "outputs": [
    {
     "name": "stdout",
     "output_type": "stream",
     "text": [
      "x_train = [1. 2.]\n",
      "y_train = [300. 500.]\n"
     ]
    }
   ],
   "source": [
    "# x_train is the input variable (size in 1000 square feet)\n",
    "# y_train is the target (price in 1000s of dollars)\n",
    "x_train = np.array([1.0, 2.0])\n",
    "y_train = np.array([300.0, 500.0])\n",
    "print(f\"x_train = {x_train}\")\n",
    "print(f\"y_train = {y_train}\")"
   ]
  },
  {
   "cell_type": "code",
   "execution_count": null,
   "id": "3866445f",
   "metadata": {},
   "outputs": [],
   "source": []
  }
 ],
 "metadata": {
  "kernelspec": {
   "display_name": "Python 3 (ipykernel)",
   "language": "python",
   "name": "python3"
  },
  "language_info": {
   "codemirror_mode": {
    "name": "ipython",
    "version": 3
   },
   "file_extension": ".py",
   "mimetype": "text/x-python",
   "name": "python",
   "nbconvert_exporter": "python",
   "pygments_lexer": "ipython3",
   "version": "3.9.12"
  }
 },
 "nbformat": 4,
 "nbformat_minor": 5
}
