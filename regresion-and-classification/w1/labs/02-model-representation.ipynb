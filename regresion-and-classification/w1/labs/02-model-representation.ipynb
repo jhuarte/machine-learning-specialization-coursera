{
 "cells": [
  {
   "cell_type": "markdown",
   "id": "4b92daa0",
   "metadata": {},
   "source": [
    "**Goals**\n",
    "\n",
    "In this lab you will learn to implement the model *f<sub>w,b</sub>* for lineal regression with one variable.\n",
    "    \n",
    "![lecture.png](./images/lecture.png \"Lecture\")\n"
   ]
  },
  {
   "cell_type": "markdown",
   "id": "8888f695",
   "metadata": {},
   "source": [
    "\n",
    "| General notation      | Description | Python (if applicalbe) |\n",
    "| :--- |:--- |:--- |\n",
    "|a |scalar (non blod)|| \n",
    "|**a** |vector **(blod)**||\n",
    "|Regression|\n",
    "|x|Training example feature values (in this lab - Size (1000 sqft))|```x_train```|\n",
    "|y|Training examples targets (in this lab - price (1000s of dollars))|```y_train```|\n",
    "|*x<sup>(i)</sup>, y<sup>(i)</sup>*|*i<sub>th</sub>* training example|```x_i```,```y_i```|\n",
    "|m|Number of training examples|```m```|\n",
    "|*w*|Parameter: weigth|```w```|\n",
    "|b|Parameter: bias|```b```|\n",
    "|*f<sub>w,b</sub>(x<sup>(i)</sup>)*|The result of the model evaluation at *x<sup>(i)</sup>* parameterized by *w, b: f<sub>w,b</sub>(x<sup>(i)</sup>) = wx<sup>(i)</sup> + b*|```f_wb```|\n",
    "||||\n",
    "\n",
    "\n",
    "**Tools**\n",
    "\n",
    "In this lab you will make use of:\n",
    "\n",
    "- NumPy, a popular library for scientific computing\n",
    "- Matplotlib, a popular library for plotting data\n",
    "\n"
   ]
  },
  {
   "cell_type": "code",
   "execution_count": 15,
   "id": "14892e19",
   "metadata": {},
   "outputs": [],
   "source": [
    "import numpy as np\n",
    "import matplotlib.pyplot as plt\n",
    "plt.style.use('./deeplearning.mplstyle')"
   ]
  },
  {
   "cell_type": "markdown",
   "id": "d1a5cd95",
   "metadata": {},
   "source": [
    "**Problem statement**\n",
    "\n",
    "![trainingdata.png](./images/trainingdata.png \"Lecture\")\n",
    "\n",
    "As in the lecture, you will use the motivating example of housing price prediction.\n",
    "This lab will use a simple data set with only two data points - a house with 1000 square feet(sqft) sold for 300,000 and a house with 2000 square feet sold for $500,000. These two points will constitute our data or training set. In this lab, the units of size are 1000 sqft and the units of price are 1000s of dollars.\n",
    "\n",
    "|Size (1000 sqft)| Price (1000s of dollars)|\n",
    "| :--- |:--- |\n",
    "|1.0| \t300|\n",
    "|2.0| \t500|\n",
    "\n",
    "You would like to fit a linear regression model (shown above as the blue straight line) through these two points, so you can then predict price for other houses - say, a house with 1200 sqft.\n",
    "\n",
    "Please run the following code cell to create your `x_train` and `y_train` variables. The data is stored in one-dimensional NumPy arrays.\n"
   ]
  },
  {
   "cell_type": "code",
   "execution_count": 13,
   "id": "e68424f7",
   "metadata": {},
   "outputs": [
    {
     "name": "stdout",
     "output_type": "stream",
     "text": [
      "x_train = [1. 2.]\n",
      "y_train = [300. 500.]\n"
     ]
    }
   ],
   "source": [
    "# x_train is the input variable (size in 1000 square feet)\n",
    "# y_train is the target (price in 1000s of dollars)\n",
    "x_train = np.array([1.0, 2.0])\n",
    "y_train = np.array([300.0, 500.0])\n",
    "print(f\"x_train = {x_train}\")\n",
    "print(f\"y_train = {y_train}\")"
   ]
  },
  {
   "cell_type": "markdown",
   "id": "ea627798",
   "metadata": {},
   "source": [
    "**Number of training examples `m`**\n",
    "\n",
    "You will use `m` to denote the number of training examples. Numpy arrays have a `.shape` parameter. `x_train.shape` returns a python tuple with an entry for each dimension. `x_train.shape[0]` is the length of the array and number of examples as shown below.\n"
   ]
  },
  {
   "cell_type": "code",
   "execution_count": 3,
   "id": "3866445f",
   "metadata": {},
   "outputs": [
    {
     "name": "stdout",
     "output_type": "stream",
     "text": [
      "x_train.shape: (2,)\n",
      "Number of training examples is: 2\n"
     ]
    }
   ],
   "source": [
    "# m is the number of training examples\n",
    "print(f\"x_train.shape: {x_train.shape}\")\n",
    "m = x_train.shape[0]\n",
    "print(f\"Number of training examples is: {m}\")"
   ]
  },
  {
   "cell_type": "markdown",
   "id": "b3dae2d2",
   "metadata": {},
   "source": [
    "One can also use the Python `len()` function as shown below."
   ]
  },
  {
   "cell_type": "code",
   "execution_count": 6,
   "id": "04267c94",
   "metadata": {},
   "outputs": [
    {
     "name": "stdout",
     "output_type": "stream",
     "text": [
      "Number of training examles is: 2\n"
     ]
    }
   ],
   "source": [
    "# m is the number of training examples\n",
    "m = len(x_train)\n",
    "print(f'Number of training examles is: {m}')"
   ]
  },
  {
   "cell_type": "markdown",
   "id": "471307a7",
   "metadata": {},
   "source": [
    "**Training example `x_i`, `y_i`**\n",
    "\n",
    "You will use *(x<sup>i</sup>, y<sup>i</sup>)* to denote the *i<sup>th</sup>* training example. Since Python is zero indexed, *(x<sup>0</sup>, y<sup>0</sup>)* is (1.0, 300.0) and *(x<sup>1</sup>, y<sup>1</sup>)* is (2.0, 500.0).\n",
    "\n",
    "To access a value in a Numpy array, one indexes the array with the desired offset. For example the syntax to access location zero of `x_train` is `x_train[0]`. Run the next code block below to get the training example."
   ]
  },
  {
   "cell_type": "code",
   "execution_count": 10,
   "id": "253eb390",
   "metadata": {},
   "outputs": [
    {
     "name": "stdout",
     "output_type": "stream",
     "text": [
      "(x^(1), y^(1)):(2.0,500.0)\n"
     ]
    }
   ],
   "source": [
    "i = 1\n",
    "\n",
    "x_i,y_i = x_train[i],y_train[i]\n",
    "print(f\"(x^({i}), y^({i})):({x_i},{y_i})\")"
   ]
  },
  {
   "cell_type": "markdown",
   "id": "63745576",
   "metadata": {},
   "source": [
    "\n",
    "**Plotting the data**\n",
    "\n",
    "You can plot these two points using the `scatter()` function in the matplotlib library, as shown in the cell below.\n",
    "\n",
    "- The function arguments `marker` and `c` show the points as red crosses (the default is blue dots).\n",
    "\n",
    "You can use other functions in the `matplotlib` library to set the title and labels to display"
   ]
  },
  {
   "cell_type": "code",
   "execution_count": 14,
   "id": "26d4dd48",
   "metadata": {},
   "outputs": [
    {
     "data": {
      "image/png": "[encoded data removed]",
      "text/plain": [
       "<Figure size 640x480 with 1 Axes>"
      ]
     },
     "metadata": {},
     "output_type": "display_data"
    }
   ],
   "source": [
    "# Plot the data points\n",
    "plt.scatter(x_train, y_train, marker='x', c='r')\n",
    "# Set the title\n",
    "plt.title(\"Housing Prices\")\n",
    "# Set the y-axis label\n",
    "plt.ylabel('Price (in 1000s of dollars)')\n",
    "# Set the x-axis label\n",
    "plt.xlabel('Size (1000 sqft)')\n",
    "plt.show()"
   ]
  },
  {
   "cell_type": "markdown",
   "id": "148cb4d2",
   "metadata": {},
   "source": [
    "**Model function**\n",
    "\n",
    "![model](./images/model.png \"Model\")\n",
    "\n",
    "As described in lecture, the model function for linear regression (which is a function that maps from x to y) is represented as:\n",
    "\n",
    "*f<sub>w,b</sub> = wx<sup>(i)</sup>+b*\n",
    "\n",
    "The formula above is how you can represent straight lines - different values of *w* and *b* give you different straight lines on the plot. Let's try to get a better intuition for this through the code blocks below. Let's start with *w=100* and *b=100*.\n",
    "\n",
    "Note: You can come back to this cell to adjust the model's *w* and *b* parameters"
   ]
  },
  {
   "cell_type": "code",
   "execution_count": 25,
   "id": "67c3778d",
   "metadata": {},
   "outputs": [
    {
     "name": "stdout",
     "output_type": "stream",
     "text": [
      "w: 100\n",
      "b: 100\n"
     ]
    }
   ],
   "source": [
    "w = 100\n",
    "b = 100\n",
    "print(f\"w: {w}\")\n",
    "print(f\"b: {b}\")"
   ]
  },
  {
   "cell_type": "markdown",
   "id": "2af07671",
   "metadata": {},
   "source": [
    "Now, let's compute the value of *f<sub>w,b</sub>(x<sup>(i)</sup>)* for your two data points. You can explicitly write this out for each data point as -\n",
    "\n",
    "for x<sup>(0)</sup>, `f_wb = w * x[0] + b`\n",
    "\n",
    "for x<sup>(1)</sup>, `f_wb = w * x[1] + b`\n",
    "\n",
    "For a large number of data points, this can get unwieldy and repetitive. So instead, you can calculate the function output in a `for` loop as shown in the `compute_model_output` function below.\n",
    "\n",
    "Note: The argument description `(ndarray (m,))` describes a Numpy n-dimensional array of `shape (m,)`. `(scalar)` describes an argument without dimensions, just a magnitude.\n",
    "Note: `np.zero(n)` will return a one-dimensional numpy array with \n",
    "\n",
    "entries"
   ]
  },
  {
   "cell_type": "code",
   "execution_count": 19,
   "id": "72bd2a1d",
   "metadata": {},
   "outputs": [],
   "source": [
    "def compute_module_ouput(x, w, b):\n",
    "    \"\"\"\n",
    "    Computes de predection of a linear model\n",
    "    Args:\n",
    "        x (ndarray(m,)): data, m examples\n",
    "        w,b (scalar): model parameters\n",
    "    Returns:\n",
    "        y (ndarray(m,)): target values\n",
    "    \"\"\"\n",
    "    m = x.shape[0]\n",
    "    f_wb = np.zeros(m)\n",
    "    for i in range(m):\n",
    "        f_wb[i] = w * x[i] + b\n",
    "        \n",
    "    return f_wb"
   ]
  },
  {
   "cell_type": "markdown",
   "id": "68ff52ee",
   "metadata": {},
   "source": [
    "Now let's call the `compute_model_output` function and plot the output."
   ]
  },
  {
   "cell_type": "code",
   "execution_count": 26,
   "id": "2523dd72",
   "metadata": {},
   "outputs": [
    {
     "data": {
      "image/png": "[encoded data removed]",
      "text/plain": [
       "<Figure size 640x480 with 1 Axes>"
      ]
     },
     "metadata": {},
     "output_type": "display_data"
    }
   ],
   "source": [
    "tmp_f_wb = compute_module_ouput(x_train, w, b)\n",
    "# Plot our model prediction\n",
    "plt.plot(x_train, tmp_f_wb, c='b', label='Our predictions')\n",
    "\n",
    "# Plot the data points\n",
    "plt.scatter(x_train, y_train, marker='x', c='r',label='Actual Values')\n",
    "\n",
    "# Set the title\n",
    "plt.title(\"Housing Prices\")\n",
    "# Set the y-axis label\n",
    "plt.ylabel('Price (in 1000s of dollars)')\n",
    "# Set the x-axis label\n",
    "plt.xlabel('Size (1000 sqft)')\n",
    "plt.legend()\n",
    "plt.show()"
   ]
  },
  {
   "cell_type": "markdown",
   "id": "4f620176",
   "metadata": {},
   "source": [
    "As you can see, setting does not result in a line that fits our data.\n",
    "\n",
    "**Challenge**\n",
    "\n",
    "Try experimenting with different values of *w* and *b*. What should the values be for a line that fits our data?\n",
    "\n",
    "Tip: `w=200` and `b=100`.\n",
    "\n",
    "\n",
    "**Prediction**\n",
    "\n",
    "Now that we have a model, we can use it to make our original prediction. Let's predict the price of a house with 1200 sqft. Since the units of *x* are in 1000's of sqft, is 1.2."
   ]
  },
  {
   "cell_type": "code",
   "execution_count": 27,
   "id": "02c3a2aa",
   "metadata": {},
   "outputs": [
    {
     "name": "stdout",
     "output_type": "stream",
     "text": [
      "$340 thousand dollars\n"
     ]
    }
   ],
   "source": [
    "w = 200                         \n",
    "b = 100    \n",
    "x_i = 1.2\n",
    "cost_1200sqft = w * x_i + b    \n",
    "\n",
    "print(f\"${cost_1200sqft:.0f} thousand dollars\")"
   ]
  },
  {
   "cell_type": "markdown",
   "id": "edda1c7c",
   "metadata": {},
   "source": [
    "**Congratulations**\n",
    "\n",
    "In this lab you have learned:\n",
    "\n",
    "- Linear regression builds a model which establishes a relationship between features and targets\n",
    "- In the example above, the feature was house size and the target was house price\n",
    "- for simple linear regression, the model has two parameters *w* and *b* whose values are 'fit' using training data.\n",
    "- once a model's parameters have been determined, the model can be used to make predictions on novel data."
   ]
  },
  {
   "cell_type": "code",
   "execution_count": null,
   "id": "a7979572",
   "metadata": {},
   "outputs": [],
   "source": []
  }
 ],
 "metadata": {
  "kernelspec": {
   "display_name": "Python 3 (ipykernel)",
   "language": "python",
   "name": "python3"
  },
  "language_info": {
   "codemirror_mode": {
    "name": "ipython",
    "version": 3
   },
   "file_extension": ".py",
   "mimetype": "text/x-python",
   "name": "python",
   "nbconvert_exporter": "python",
   "pygments_lexer": "ipython3",
   "version": "3.9.12"
  }
 },
 "nbformat": 4,
 "nbformat_minor": 5
}
